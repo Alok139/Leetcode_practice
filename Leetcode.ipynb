{
 "cells": [
  {
   "cell_type": "code",
   "execution_count": 1,
   "metadata": {},
   "outputs": [],
   "source": [
    "#remove duplicates\n",
    "def removeDuplicates(nums):        \n",
    "        if len(nums) == 0:\n",
    "            return 0\n",
    "        i = 0\n",
    "        for j in range(len(nums)):\n",
    "            if nums[j] != nums[i]:\n",
    "                i+= 1\n",
    "                nums[i] = nums[j]\n",
    "        return i + 1"
   ]
  },
  {
   "cell_type": "code",
   "execution_count": null,
   "metadata": {},
   "outputs": [],
   "source": [
    "#Best Time to Buy and Sell Stock II\n",
    "def maxProfit(self, prices: List[int]) -> int:\n",
    "        if prices is None:\n",
    "            return 0\n",
    "        total_Prof=0\n",
    "        for i in range(1,len(prices)):\n",
    "            if prices[i]>prices[i-1]:\n",
    "                total_Prof+=prices[i]-prices[i-1]\n",
    "        return total_Prof"
   ]
  },
  {
   "cell_type": "code",
   "execution_count": null,
   "metadata": {},
   "outputs": [],
   "source": [
    "#rotate array\n",
    "def rotate(self, nums: List[int], k: int) -> None:\n",
    "        \"\"\"\n",
    "        Do not return anything, modify nums in-place instead.\n",
    "        \"\"\"\n",
    "        n = len(nums)\n",
    "        k = k % n\n",
    "        nums[:] = nums[n-k:] + nums[:n-k]"
   ]
  },
  {
   "cell_type": "code",
   "execution_count": null,
   "metadata": {},
   "outputs": [],
   "source": [
    "#Contains Duplicate\n",
    "def containsDuplicate(self, nums: List[int]) -> bool:\n",
    "        return len(set(nums)) < len(nums)"
   ]
  },
  {
   "cell_type": "code",
   "execution_count": null,
   "metadata": {},
   "outputs": [],
   "source": [
    "#Single Number\n",
    "def singleNumber(self, nums: List[int]) -> int:\n",
    "        for i in range(1,len(nums)):\n",
    "            if len(nums) == 0:\n",
    "                return \n",
    "            else:\n",
    "                nums[0] ^= nums[i]\n",
    "        return nums[0]"
   ]
  },
  {
   "cell_type": "code",
   "execution_count": null,
   "metadata": {},
   "outputs": [],
   "source": [
    "#Intersection of Two Arrays II\n",
    "def intersect(self, nums1: List[int], nums2: List[int]) -> List[int]:\n",
    "        res = []\n",
    "        for element in nums1:\n",
    "            if element in nums2:\n",
    "                res.append(element)\n",
    "                nums2.remove(element)\n",
    "        return res"
   ]
  },
  {
   "cell_type": "code",
   "execution_count": null,
   "metadata": {},
   "outputs": [],
   "source": [
    "#Plus One\n",
    "def plusOne(self, digits: List[int]) -> List[int]:\n",
    "        if digits == []:  #just for case: digits = [9]\n",
    "            return [1]\n",
    "        if digits[-1] != 9:\n",
    "            return digits[:-1]+[digits[-1]+1]\n",
    "        else:\n",
    "            return self.plusOne(digits[:-1])+[0]"
   ]
  },
  {
   "cell_type": "code",
   "execution_count": null,
   "metadata": {},
   "outputs": [],
   "source": [
    "#Move Zeroes\n",
    "def moveZeroes(self, nums: List[int]) -> None:\n",
    "        \"\"\"\n",
    "        Do not return anything, modify nums in-place instead.\n",
    "        \"\"\"\n",
    "        last = 0\n",
    "        for i in range(0,len(nums)):\n",
    "            if (nums[i]!=0):\n",
    "                nums[i],nums[last] = 0,nums[i]\n",
    "                last+=1"
   ]
  },
  {
   "cell_type": "code",
   "execution_count": null,
   "metadata": {},
   "outputs": [],
   "source": [
    "#Two Sum O(n)\n",
    "check = {}\n",
    "        for i,num in enumerate(nums):\n",
    "            if num not in check:\n",
    "                check[target-num]=i\n",
    "            else:\n",
    "                return [check[num],i]\n",
    "            \n",
    "            \n",
    "dict = {}\n",
    "        for i in range(len(nums)):\n",
    "            if target-nums[i] not in dict:\n",
    "                dict[nums[i]]=i\n",
    "            else:\n",
    "                return [dict[target-nums[i]],i]"
   ]
  },
  {
   "cell_type": "code",
   "execution_count": null,
   "metadata": {},
   "outputs": [],
   "source": [
    "#valid sudoku\n",
    "def isValidSudoku(self, board: List[List[str]]) -> bool:\n",
    "        seen = []\n",
    "        for i, row in enumerate(board):\n",
    "            for j, c in enumerate(row):\n",
    "                if c != '.':\n",
    "                    seen += [(c,j),(i,c),(i/3,j/3,c)]\n",
    "        return len(seen) == len(set(seen))"
   ]
  },
  {
   "cell_type": "code",
   "execution_count": null,
   "metadata": {},
   "outputs": [],
   "source": [
    "#Rotate Image\n",
    "\n",
    "def rotate(self, matrix: List[List[int]]) -> None:\n",
    "        \"\"\"\n",
    "        Do not return anything, modify matrix in-place instead.\n",
    "        \"\"\"\n",
    "        #matrix[::] = zip(*matrix[::-1])\n",
    "        n = len(matrix)\n",
    "        for i in range(n):\n",
    "            for j in range(n):\n",
    "                if i < j:\n",
    "                    matrix[i][j], matrix[j][i] = matrix[j][i], matrix[i][j]\n",
    "        for l in matrix:\n",
    "            l.reverse()"
   ]
  },
  {
   "cell_type": "code",
   "execution_count": null,
   "metadata": {},
   "outputs": [],
   "source": [
    "# reverse string\n",
    "string = \"\" \n",
    "        for i in s: \n",
    "            string = i + string\n",
    "        print(string)\n",
    "        s[::-1]"
   ]
  },
  {
   "cell_type": "code",
   "execution_count": null,
   "metadata": {},
   "outputs": [],
   "source": [
    "# reverse integer\n",
    "def reverse(self, x: int) -> int:\n",
    "        result = 0\n",
    "        a = abs(x)\n",
    "        while a!=0:\n",
    "            rem = a%10\n",
    "            result = (result * 10) + rem\n",
    "            a = a // 10\n",
    "        if x > 0 and result < 2**31:\n",
    "            return result\n",
    "        elif x<0 and result <= 2**31:\n",
    "            return -result\n",
    "        else:\n",
    "            return 0"
   ]
  },
  {
   "cell_type": "code",
   "execution_count": null,
   "metadata": {},
   "outputs": [],
   "source": [
    "# First Unique Character in a String\n",
    "def firstUniqChar(self, s: str) -> int:\n",
    "        if not s:  \n",
    "            return -1\n",
    "        if len(s) == 1: \n",
    "            return 0\n",
    "        for i, char in enumerate(s):\n",
    "            if char not in s[:i]+s[i+1:]:\n",
    "                return i\n",
    "        return -1"
   ]
  },
  {
   "cell_type": "code",
   "execution_count": null,
   "metadata": {},
   "outputs": [],
   "source": [
    "#Valid Anagram\n",
    "import collections\n",
    "class Solution:\n",
    "    def isAnagram(self, s: str, t: str) -> bool:\n",
    "        return collections.Counter(s) == collections.Counter(t)"
   ]
  },
  {
   "cell_type": "code",
   "execution_count": null,
   "metadata": {},
   "outputs": [],
   "source": [
    "#Valid Palindrome\n",
    " s=s.lower()\n",
    "        rev=''\n",
    "        for i in s:\n",
    "            if i.isalnum():\n",
    "                rev+=i\n",
    "        return rev==rev[::-1]"
   ]
  },
  {
   "cell_type": "code",
   "execution_count": null,
   "metadata": {},
   "outputs": [],
   "source": [
    "#Implement strStr()\n",
    "\n",
    "def strStr(self, haystack: str, needle: str) -> int:\n",
    "        if needle == \"\": \n",
    "            return 0\n",
    "        n = len(needle)\n",
    "        for i in range(len(haystack)- n + 1):\n",
    "            if haystack[i:i+n] == needle: \n",
    "                return i\n",
    "        return -1\n",
    "        "
   ]
  },
  {
   "cell_type": "code",
   "execution_count": null,
   "metadata": {},
   "outputs": [],
   "source": [
    "#  Count and Say\n",
    "    def longestCommonPrefix(self, strs):\n",
    "        if not strs: \n",
    "            return \"\"\n",
    "       \n",
    "        s1 = min(strs)\n",
    "        s2 = max(strs)\n",
    "        \n",
    "        for i, c in enumerate(s1):\n",
    "            if c != s2[i]:\n",
    "                return s1[:i]\n",
    "        return s1"
   ]
  },
  {
   "cell_type": "markdown",
   "metadata": {},
   "source": [
    "# Amazon"
   ]
  },
  {
   "cell_type": "code",
   "execution_count": null,
   "metadata": {},
   "outputs": [],
   "source": [
    "# FizzBuzz\n",
    "    def fizzBuzz(self, n: int) -> List[str]:\n",
    "        ans = []\n",
    "        for num in range(1,n+1):\n",
    "            if n%3 == 0 and n%5 == 0:\n",
    "                ans.append(\"FizzBuzz\")\n",
    "            elif n%3 == 0:\n",
    "                ans.append(\"Fizz\")\n",
    "            elif n%5 == 0:\n",
    "                ans.append(\"Bizz\")\n",
    "            else:\n",
    "                ans.append(str(num))\n",
    "        return ans"
   ]
  },
  {
   "cell_type": "code",
   "execution_count": 6,
   "metadata": {},
   "outputs": [
    {
     "name": "stdout",
     "output_type": "stream",
     "text": [
      "Counter({'l': 3, 'o': 2, 'H': 1, 'e': 1, ' ': 1, 'w': 1, 'r': 1, 'd': 1})\n",
      "{'l': 3, 'o': 2}\n"
     ]
    }
   ],
   "source": [
    "import collections\n",
    "string = \"Hello world\"\n",
    "frequencies = collections.Counter(string)\n",
    "repeated = {}\n",
    "\n",
    "for key, value in frequencies.items():\n",
    "    if value > 1:\n",
    "        repeated[key] = value\n",
    "print(repeated)"
   ]
  },
  {
   "cell_type": "code",
   "execution_count": 12,
   "metadata": {},
   "outputs": [
    {
     "name": "stdout",
     "output_type": "stream",
     "text": [
      "[2.0, 4.0, 6.333333333333333]\n"
     ]
    }
   ],
   "source": [
    "# mylist = [1, 2, 3, 4, 5, 6, 7]\n",
    "# N = 3\n",
    "# cumsum, moving_aves = [0], []\n",
    "\n",
    "# for i, x in enumerate(mylist, 1):\n",
    "#     cumsum.append(cumsum[i-1] + x)\n",
    "#     if i>=N:\n",
    "#         moving_ave = (cumsum[i] - cumsum[i-N])/N\n",
    "#         #can do stuff with moving_ave here\n",
    "#         moving_aves.append(moving_ave)\n",
    "# print(moving_aves)\n",
    "\n",
    "\n",
    "numbers = [1, 2, 3, 7, 9]\n",
    "window_size = 3\n",
    "\n",
    "i = 0\n",
    "moving_averages = []\n",
    "while i < len(numbers) - window_size + 1:\n",
    "    this_window = numbers[i : i + window_size]\n",
    "\n",
    "    window_average = sum(this_window) / window_size\n",
    "    moving_averages.append(window_average)\n",
    "    i += 1\n",
    "\n",
    "print(moving_averages)"
   ]
  },
  {
   "cell_type": "code",
   "execution_count": null,
   "metadata": {},
   "outputs": [],
   "source": [
    "# valid parentheses\n",
    "def isValid(self, s: str) -> bool:\n",
    "        while len(s)>0:\n",
    "            num=len(s)\n",
    "            s=s.replace(\"()\",\"\")\n",
    "            s=s.replace(\"[]\",\"\")\n",
    "            s=s.replace(\"{}\",\"\")\n",
    "            if len(s)==num:\n",
    "                return False\n",
    "        return True"
   ]
  },
  {
   "cell_type": "code",
   "execution_count": null,
   "metadata": {},
   "outputs": [],
   "source": [
    "#longest string without repeating\n",
    "def lengthOfLongestSubstring(self, s: str) -> int:\n",
    "        longest = 0\n",
    "        left, right = 0, 0\n",
    "        chars = set()\n",
    "        while left < len(string) and right < len(string):\n",
    "            if string[right] not in chars:\n",
    "                chars.add(string[right])\n",
    "                right += 1\n",
    "                longest = max(longest, right - left)\n",
    "            else:\n",
    "                chars.remove(string[left])\n",
    "                left += 1\n",
    "        return longest"
   ]
  },
  {
   "cell_type": "code",
   "execution_count": null,
   "metadata": {},
   "outputs": [],
   "source": [
    "# string to atoi\n",
    "def myAtoi(self, str: str) -> int:\n",
    "        str=str.strip(\" \")\n",
    "        res = []\n",
    "        for i in str:\n",
    "            if((i=='-' or i=='+') and len(res) ==0): \n",
    "                res.append(i)\n",
    "            elif(i.isnumeric()):\n",
    "                res.append(i)\n",
    "            else:\n",
    "                break\n",
    "        if(len(res)==0 or res == ['+'] or res==['-']):\n",
    "            return 0\n",
    "        else:\n",
    "            str = (''.join(res))\n",
    "            number = int(str,10)\n",
    "            if(number<-2**31):\n",
    "                return -2**31\n",
    "            elif(number>2**31 -1):\n",
    "                return 2**31 -1\n",
    "            else:\n",
    "                return number"
   ]
  },
  {
   "cell_type": "code",
   "execution_count": null,
   "metadata": {},
   "outputs": [],
   "source": [
    "# missing number\n",
    "def missingNumber(self, nums: List[int]) -> int:\n",
    "        return int(((len(nums)+1)*(len(nums)/2.0)) - sum(nums))\n",
    "        "
   ]
  },
  {
   "cell_type": "code",
   "execution_count": null,
   "metadata": {},
   "outputs": [],
   "source": [
    "# reorder log files\n",
    "def reorderLogFiles(self, logs: List[str]) -> List[str]:\n",
    "        letter, nums = [], []\n",
    "        \n",
    "        for log in logs:\n",
    "            \n",
    "            tmp = log.split(' ')\n",
    "            if tmp[1].isdigit():\n",
    "                nums.append(log)\n",
    "            else:\n",
    "                letter.append(log)\n",
    "        \n",
    "        letter.sort(key = lambda x: x.split()[0])\n",
    "        letter.sort(key = lambda x: x.split(' ')[1:])\n",
    "        return letter + nums"
   ]
  },
  {
   "cell_type": "code",
   "execution_count": null,
   "metadata": {},
   "outputs": [],
   "source": [
    "#trapping rain water\n",
    "\n",
    "def trap(self, height: List[int]) -> int:\n",
    "        if not height:\n",
    "            return 0\n",
    "        \n",
    "        # find the index of the tallest point\n",
    "        maxIndex = height.index(max(height))\n",
    "        \n",
    "        # sum up the water to the left of maxIndex\n",
    "        result = 0 # the amount of water\n",
    "        maxSeen = 0 # the max elevation seen\n",
    "        # iterate from left to right\n",
    "        for i in range(maxIndex):\n",
    "            if height[i] >= maxSeen:\n",
    "                maxSeen = height[i]\n",
    "            else:\n",
    "                result += maxSeen - height[i]\n",
    "        \n",
    "        # sum up the water to the right of maxIndex\n",
    "        maxSeen = 0\n",
    "        # iterate from right to left\n",
    "        for i in range(len(height)-1, maxIndex-1, -1):\n",
    "            if height[i] >= maxSeen:\n",
    "                maxSeen = height[i]\n",
    "            else:\n",
    "                result += maxSeen - height[i]\n",
    "                \n",
    "        return result"
   ]
  }
 ],
 "metadata": {
  "kernelspec": {
   "display_name": "Python 3",
   "language": "python",
   "name": "python3"
  },
  "language_info": {
   "codemirror_mode": {
    "name": "ipython",
    "version": 3
   },
   "file_extension": ".py",
   "mimetype": "text/x-python",
   "name": "python",
   "nbconvert_exporter": "python",
   "pygments_lexer": "ipython3",
   "version": "3.7.4"
  }
 },
 "nbformat": 4,
 "nbformat_minor": 2
}
